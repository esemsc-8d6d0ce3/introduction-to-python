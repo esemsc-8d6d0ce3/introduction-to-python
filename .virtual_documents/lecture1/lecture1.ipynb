import pybryt
from lecture import pybryt_reference

















# Comment: This is a 'code' cell within Jupyter notebook.
# Press Shift-Enter to execute the code within it,
# or click 'Run' in the Jupyter toolbar above.

print(5 * 0.6 - 0.5 * 9.81 * 0.6**2)











v0 = 5
g = 9.81
t = 0.6
y = v0 * t - 0.5 * g * t**2
print(y)








initial_velocity = 5
acceleration_of_gravity = 9.81
TIME = 0.6
VerticalPositionOfBall = (
    initial_velocity * TIME - 0.5 * acceleration_of_gravity * TIME**2
)
print(VerticalPositionOfBall)





print("initial_velocity".isidentifier())  # snake_case-style variable name
print("InitialVelocity".isidentifier())  # CamelCase-style variable name
print("initial velocity".isidentifier())  # variable name contains space








# Program for computing the height of a ball in vertical motion.
v0 = 5  # Set initial velocity in m/s.
g = 9.81  # Set acceleration due to gravity in m/s^2.
t = 0.6  # Time at which we want to know the height of the ball in seconds.
y = v0 * t - 0.5 * g * t**2  # Calculate the vertical position.
print(y)





metres = 640

# 1 inch = 2.54 cm. Remember to convert 2.54 cm to 0.0254 m here.
inches = metres / 0.0254

# Uncomment and complete the following code. Do not change variable names for testing.
feet = inches * 12

yards = feet * 3

miles = yards * 1760


with pybryt.check(pybryt_reference(1, 2)):
    feet, yards, miles


import numbers
import numpy as np

assert all([isinstance(i, numbers.Real) for i in [feet, yards, miles]])

### BEGIN HIDDEN TESTS
assert np.isclose(feet, 2099.737532808399)
assert np.isclose(yards, 699.912510936133)
assert np.isclose(miles, 0.3976775630318938)
### END HIDDEN TESTS





print(f"At t={t} s, y is {y} m.")  # f-string method - string literal begins with an f





print(f"At t={t:g} s, y is {y:.2f} m.")  # f-string with specified formatting





print(f"""At t={t:f} s, a ball with
initial velocity v0={v0:.3E} m/s
is located at the height y={y:.2f} m.
""")








print("At t={:g} s, y is {:.2f} m.".format(t, y))  # string's format method
print("At t=%g s, y is %.2f m." % (t, y))  # % operator








density = 1.2  # units of kg/m^3
ball_radius = 0.11  # units of m
C_D = 0.2  # drag coefficient

v = 50.8  # m/s (fastest recorded speed of football)

# Uncomment, fix, and complete the following lines.
# A = pi*ball_radius  # cross sectional area of a sphere
# F_d =

# Challenge yourself to use the formatted print statement
# shown above to write out the force with one decimal in
# units of Newton (1 N = 1 kgm/s^2).


with pybryt.check(pybryt_reference(1, 3)):
    A, F_d


import numbers
import numpy as np

assert isinstance(F_d, numbers.Real)

### BEGIN HIDDEN TESTS
assert isinstance(A, numbers.Real)
assert np.isclose(F_d, 11.771828154393067)
assert np.isclose(A, 0.0380132711084365)
### END HIDDEN TESTS








# Uncomment and complete the code below (and, as always, don't change variable names)

# p = ...
# A_0 = ...

# A_n = ...

# print(f"The amount of money in the account after {n:d} years is {A_n:.2f} euros")


with pybryt.check(pybryt_reference(1, 4)):
    p, A_0, n, A_n


import numbers
import numpy as np

assert isinstance(A_n, numbers.Real)

### BEGIN HIDDEN TESTS
assert np.isclose(A_n, 1157.6250000000002)
### END HIDDEN TESTS





import math

# Since we imported library (import math),
# we access the sqrt function using math.sqrt.
r = math.sqrt(2)
print(r)





from math import sqrt

# This time, we did not import the entire library -
# we imported only sqrt function.
# Therefore, we can use it directly.
r = sqrt(2)
print(r)





from math import sin, cos, log

x = 1.2
print(sin(x) * cos(x) + 4 * log(x))  # log is ln (base e)





# Uncomment and complete the code below (don't change variable names)

# from math import pi, ...

# f_x =


with pybryt.check(pybryt_reference(1, 5)):
    f_x


import numbers
import numpy as np

assert isinstance(f_x, numbers.Real)

### BEGIN HIDDEN TESTS
assert np.isclose(f_x, 0.17603266338214976)
### END HIDDEN TESTS





# from math import sqrt
#
# a = 2
# b = 1
# c = -2
#
# q = sqrt(b*b + 4*a*c)
# x1 = (-b + q)/2*a
# x2 = (-b - q)/2*a


with pybryt.check(pybryt_reference(1, 6)):
    q, x1, x2


import numbers
import numpy as np

assert isinstance(q, numbers.Real)
assert isinstance(x1, numbers.Real)
assert isinstance(x2, numbers.Real)

### BEGIN HIDDEN TESTS
assert np.isclose(q, 4.123105625617661)
assert np.isclose(x1, 0.7807764064044151)
assert np.isclose(x2, -1.2807764064044151)
### END HIDDEN TESTS





def ball_height(v0, t, g=9.81):
    """Function to calculate and return height of the ball in vertical motion.

    Parameters
    ----------
    v0 : float
        Initial velocity (units, m/s).
    t : float
        Time at which we want to know the height of the ball (units, seconds).
    g : float, optional
        Acceleration due to gravity (units, m/s^2). By default 9.81 m/s^2.

    Returns
    -------
    float
        Height of the ball in metres.

    """
    height = v0 * t - 0.5 * g * t**2

    return height





# We pass 5 and 0.6 to v0 and t, respectively.
# Since we do not pass a value for g,
# a default value we defined in function's signature is used.
# The value function returns (height) is put in variable h.
h = ball_height(5, 0.6)

print(f"Ball height: {h:g} metres.")





def ball_height_velocity(v0, t, g=9.81):
    """Function to calculate ball's height and its velocity.

    Parameters
    ----------
    v0 : float
        Initial velocity (units, m/s).
    t : float
        Time at which we want to know the height of the ball (units, seconds).
    g : float, optional
        Acceleration due to gravity (units, m/s^2). By default 9.81 m/s^2.

    Returns
    -------
    float
        Height of ball in metres.
    float
        Velocity of ball in m/s.

    """
    height = v0 * t - 0.5 * g * t**2
    velocity = v0 - g * t

    return height, velocity


# We pass 5 and 0.6 to v0 and t, respectively.
# The first value function returns (height) is put into variable h,
# whereas the second one (velocity) is placed in v - iterable unpacking.
h, v = ball_height_velocity(5, 0.6)

print("Ball height: %g metres." % h)
print("Ball velocity: %g m/s." % v)








def somefunc(arg1, arg2, kwarg1=True, kwarg2=0):
    print(f"arg1: {arg1}, arg2: {arg2}, kwarg1: {kwarg1}, kwarg2: {kwarg2}")


# Note that we have not specified inputs for kwarg1 and kwarg2.
somefunc("Hello", [1, 2])


# Note that we replace the default value for kwarg1.
somefunc("Hello", [1, 2], kwarg1="Hi")


# Note that we replace the default value for kwarg2.
somefunc("Hello", [1, 2], kwarg2="Hi")


# Here, we replace both default values for keyword arguments kwarg1 and kwarg2.
somefunc("Hello", [1, 2], kwarg2="Hi", kwarg1=6)





somefunc(kwarg2="Hello", arg1="Hi", kwarg1=6, arg2=[2])





# Uncomment and complete this code - keep the function name the same for testing purposes.

# def gaussian(x, m=0, s=1):
#     ...


with pybryt.check(pybryt_reference(1, 7)):
    gaussian(0.5)


import numbers
import numpy as np

res = gaussian(x=0, m=0, s=1)
assert isinstance(res, numbers.Real)
assert np.isclose(res, 1 / np.sqrt(2 * np.pi))

### BEGIN HIDDEN TESTS
assert callable(gaussian)
assert np.isclose(gaussian(x=2, m=0, s=1), 0.05399096651318806)
### END HIDDEN TESTS





# Uncomment and complete this code - keep the names the same for testing purposes.

# from math import pi

# def perfect_egg(T0, M=50, rho=1.038, Tw=100, c=3.7, K=5.4e-3, Ty=70):
#    ...
#    return t


with pybryt.check(pybryt_reference(1, 8)):
    perfect_egg(T0=4, M=50, rho=1.038, Tw=100, c=3.7, K=5.4e-3, Ty=70)
    perfect_egg(T0=20, M=50, rho=1.038, Tw=100, c=3.7, K=5.4e-3, Ty=70)


import numbers
import numpy as np

res1 = perfect_egg(T0=4, M=50, rho=1.038, Tw=100, c=3.7, K=5.4e-3, Ty=70)
res2 = perfect_egg(T0=20, M=50, rho=1.038, Tw=100, c=3.7, K=5.4e-3, Ty=70)
assert isinstance(res1, numbers.Real)
assert isinstance(res2, numbers.Real)

### BEGIN HIDDEN TESTS
assert callable(perfect_egg)
assert np.isclose(res1, 326.2798626986453)
assert np.isclose(res2, 259.3428560570137)
### END HIDDEN TESTS





# Uncomment and complete this code - keep the names the same for testing purposes.

# from math import pi, sqrt

# def period(a, m_planet, m_sun=2e30, G=6.67e-11):
#    ...

# P_mars = ...

# P_earth = ...

# birthdays = ...


with pybryt.check(pybryt_reference(1, 9)):
    period(a=1e11, m_planet=1e24), P_mars, P_earth, birthdays


import numbers
import numpy as np

res = period(a=1, m_planet=1, m_sun=1, G=0.5)
assert isinstance(res, numbers.Real)
assert np.isclose(res, 2 * np.pi)

### BEGIN HIDDEN TESTS
assert callable(period)
assert np.isclose(P_earth, 31603718.929927427)
assert np.isclose(P_mars, 58059817.3950661)
assert np.isclose(birthdays, 18.3711978719333)
### END HIDDEN TESTS








C = 41

print("C != 40: ", C != 40)
print("C < 40: ", C < 40)
print("C == 41: ", C == 41)





x = 0
y = 1.2

print("x >= 0 and y < 1:", x >= 0 and y < 1)
print("x >= 0 or y < 1:", x >= 0 or y < 1)





C = 41

print("Case 1: ", C == 40)  # False because C is not equal to 40
print("Case 2: ", C != 40 and C < 41)  # ...
print("Case 3: ", C != 40 or C < 41)  # ...
print("Case 4: ", not C == 40)
print("Case 5: ", not C > 40)
print("Case 6: ", C <= 41)
print("Case 7: ", not False)
print("Case 8: ", True and False)
print("Case 9: ", False or True)
print("Case 10: ", False or False or False)
print("Case 11: ", True and True and False)
print("Case 12: ", (True and True) or 1 == 2)








C = -20
F = 9 / 5 * C + 32

print(C, F)





C = -20
F = 9 / 5 * C + 32
print(C, F)
C = -15
F = 9 / 5 * C + 32
print(C, F)
C = -10
F = 9 / 5 * C + 32
print(C, F)
C = -5
F = 9 / 5 * C + 32
print(C, F)
C = 0
F = 9 / 5 * C + 32
print(C, F)
C = 5
F = 9 / 5 * C + 32
print(C, F)
C = 10
F = 9 / 5 * C + 32
print(C, F)
C = 15
F = 9 / 5 * C + 32
print(C, F)
C = 20
F = 9 / 5 * C + 32
print(C, F)
C = 25
F = 9 / 5 * C + 32
print(C, F)
C = 30
F = 9 / 5 * C + 32
print(C, F)
C = 35
F = 9 / 5 * C + 32
print(C, F)
C = 40
F = 9 / 5 * C + 32
print(C, F)














counter = 0
while counter <= 10:
    counter = counter + 1

print(counter)











C = -20  # Initialise C
dC = 5  # Increment for C within the loop
while C <= 40:  # Loop heading with condition (C <= 40)
    F = (9 / 5) * C + 32  # 1st statement inside loop
    print(C, F)  # 2nd statement inside loop
    C = C + dC  # Increment C for the next iteration of the loop.





# Uncomment and complete the code below. Do not change the names of variables!

# def num_digits(a):
#     ...


with pybryt.check(pybryt_reference(1, 11)):
    num_digits(999_999_999)


import numbers
import numpy as np

res = num_digits(123_456_789)
assert isinstance(res, numbers.Real)
assert np.isclose(res, 9)

### BEGIN HIDDEN TESTS
assert callable(num_digits)

assert np.isclose(num_digits(0), 1)
assert np.isclose(num_digits(5), 1)
assert np.isclose(num_digits(10), 2)
assert np.isclose(num_digits(99), 2)
assert np.isclose(num_digits(100), 3)
### END HIDDEN TESTS





# Uncomment and complete the code below. Do not change the names of variables.

# def conversion_table():
#     ...


with pybryt.check(pybryt_reference(1, 12)):
    conversion_table()


import numbers
import numpy as np

res = conversion_table()
assert isinstance(res, numbers.Real)
assert np.isclose(res, 11)

### BEGIN HIDDEN TESTS
assert callable(conversion_table)
### END HIDDEN TESTS





C1 = -20
C2 = -15
C3 = -10
...
C13 = 40





C = [-20, -15, -10, -5, 0, 5, 10, 15, 20, 25, 30, 35, 40]





mylist = [4, 6, -3.5]
print("First element:", mylist[0])
print("Second element:", mylist[1])
print("Third element:", mylist[2])





C = [-10, -5, 0, 5, 10, 15, 20, 25, 30]
C.append(35)  # add new element 35 at the end
print(C)


C = C + [40, 45]  # And another list to the end of C
print(C)


C.insert(0, -15)  # Insert -15 as index 0
print(C)


del C[2]  # delete 3rd element
print(C)


del C[2]  # delete what is now 3rd element
print(C)


print(len(C))  # length of list


print(C.index(10))  # Find the index of the element with the value 10


print(10 in C)  # True only if the value 10 is stored in the list


print(C[-1])  # The last value in the list


print(C[-2])  # The second last value in the list





print(C[5:])  # From index 5 to the end of the list


print(C[5:7])  # From index 5 up to, but NOT including index 7


print(C[7:-1])  # From index 7 up to the second last element


print(C[:])  # [:] specifies the whole list.





somelist = ["Curly", "Larry", "Moe"]
stooge1, stooge2, stooge3 = somelist
print(f"stooge1: {stooge1}, stooge2: {stooge2}, stooge3: {stooge3}")





# Uncomment and complete code. Do not change the variable names.

# def odd_numbers(n):
#     ...


with pybryt.check(pybryt_reference(1, 13)):
    odd_numbers(50)


import numbers
import numpy as np

res = odd_numbers(10)
assert isinstance(res, list)
assert len(res) == 5
assert np.allclose(res, [1, 3, 5, 7, 9])

### BEGIN HIDDEN TESTS
assert callable(odd_numbers)
assert all(i % 2 for i in odd_numbers(200))
### END HIDDEN TESTS





degrees = [0, 10, 20, 40, 100]
for C in degrees:
    print("list element:", C)
print(f"The list has {len(degrees)} elements.")





Cdegrees = [-20, -15, -10, -5, 0, 5, 10, 15, 20, 25, 30, 35, 40]
for C in Cdegrees:
    F = (9 / 5) * C + 32
    print(C, F)





for C in Cdegrees:
    F = (9.0 / 5) * C + 32
    print(f"{C:5d} {F:5.1f}")








Cdegrees = [-20, -15, -10, -5, 0, 5, 10, 15, 20, 25, 30, 35, 40]
index = 0
while index < len(Cdegrees):
    C = Cdegrees[index]
    F = (9.0 / 5) * C + 32
    print(f"{C:5d} {F:5.1f}")
    index += 1





Cdegrees = [-20, -15, -10, -5, 0, 5, 10, 15, 20, 25, 30, 35, 40]
Fdegrees = []  # start with empty list
for C in Cdegrees:
    F = (9 / 5) * C + 32
    Fdegrees.append(F)  # add new element to Fdegrees
print(Fdegrees)








for i in range(3):  # same as range(0, 3, 1)
    print(i)


for i in range(2, 8, 3):
    print(i)





n = 16

# empty lists
Cdegrees = []
Fdegrees = []

for i in range(n):
    Cdegrees.append(-5 + i * 0.5)
    Fdegrees.append((9 / 5) * Cdegrees[i] + 32)

print("Cdegrees = ", Cdegrees)
print("Fdegrees = ", Fdegrees)





n = 16
Cdegrees = [-5 + i * 0.5 for i in range(n)]
Fdegrees = [(9 / 5) * C + 32 for C in Cdegrees]
print("Cdegrees = ", Cdegrees)
print("Fdegrees = ", Fdegrees)








# Uncomment and complete code. Do not change the variable names.

# def even_numbers(n):
#     ...


with pybryt.check(pybryt_reference(1, 14)):
    even_numbers(11)


import numbers
import numpy as np

res = even_numbers(10)
assert isinstance(res, list)
assert len(res) == 5
assert np.allclose(res, [0, 2, 4, 6, 8])

### BEGIN HIDDEN TESTS
assert callable(even_numbers)
assert all(i % 2 == 0 for i in even_numbers(200))
### END HIDDEN TESTS





# Uncomment and complete this code - keep the names the same for testing purposes.

# def my_sum(x):
#     ...


with pybryt.check(pybryt_reference(1, 15)):
    my_sum([2.1, 98, -451, 273, 1111, 23.98])


import numbers
import numpy as np

res = my_sum([-1, 1, 2, 3, 0.1])
assert isinstance(res, numbers.Real)
assert np.isclose(res, 5.1)

### BEGIN HIDDEN TESTS
assert callable(my_sum)
assert np.isclose(my_sum([]), 0)
assert np.isclose(my_sum(range(1, 101)), (100 * 101) / 2)
### END HIDDEN TESTS





# Uncomment and complete this code - keep the names the same for testing purposes.

# def distance(t_start, t_end, n, v0=6.0, g=9.81):
#     ...


with pybryt.check(pybryt_reference(1, 16)):
    distance(0, 10, 5)


import numbers
import numpy as np

res = distance(0, 10, 10)
assert isinstance(res, list)
assert all([isinstance(i, numbers.Real) for i in res])
assert np.isclose(res[0], 0)

### BEGIN HIDDEN TESTS
assert callable(distance)
assert np.allclose(distance(0, 10, 5), [0.0, -15.65625, -92.625, -230.90625, -430.5])
### END HIDDEN TESTS





# Uncomment and complete this code - keep the names the same for testing purposes.

# def my_cumsum(x):
#     ...


with pybryt.check(pybryt_reference(1, 17)):
    my_cumsum([55, 111, -33, 65])


import numbers
import numpy as np

res = my_cumsum(range(10))
assert isinstance(res, list)
assert all([isinstance(i, numbers.Real) for i in res])
assert np.isclose(res[0], 0)
assert np.isclose(res[-1], 45)

### BEGIN HIDDEN TESTS
assert callable(my_cumsum)
assert np.allclose(my_cumsum(range(100)), np.cumsum(range(100)))
### END HIDDEN TESTS





# Uncomment and complete this code - keep the names the same for testing purposes.

# def compute_heights(h_0=1.0, h_1=0.3, n=10):
#     ...


with pybryt.check(pybryt_reference(1, 18)):
    compute_heights(h_0=1.0, h_1=0.3, n=10)


import numbers
import numpy as np

res = compute_heights(h_0=1.0, h_1=0, n=10)
assert isinstance(res, list)
assert all([isinstance(i, numbers.Real) for i in res])
assert np.isclose(res[0], 1)
assert np.isclose(res[-1], 0.9**10)

### BEGIN HIDDEN TESTS
assert callable(compute_heights)
assert np.allclose(
    compute_heights(h_0=1.0, h_1=0.5, n=10),
    [
        1.0,
        0.9,
        0.81,
        0.7290000000000001,
        0.6561000000000001,
        0.5904900000000002,
        0.5314410000000002,
        0.47829690000000014,
    ],
)
### END HIDDEN TESTS





# Uncomment and complete this code - keep the names the same for testing purposes.

# def calculate_pi(n):
#     ...


with pybryt.check(pybryt_reference(1, 19)):
    calculate_pi(100)


import numbers
import numpy as np

res = calculate_pi(1000)
assert isinstance(res, numbers.Real)
assert np.isclose(res, np.pi, rtol=1e-3)

### BEGIN HIDDEN TESTS
assert callable(calculate_pi)
assert np.isclose(calculate_pi(1), 4)
assert np.isclose(calculate_pi(0), 0)
### END HIDDEN TESTS
